{
 "cells": [
  {
   "cell_type": "code",
   "execution_count": 1,
   "metadata": {},
   "outputs": [],
   "source": [
    "import pickle as pk\n",
    "import pandexo.engine.justplotit as jpi\n",
    "datapath = \"/home/noud333/bachelorproject/data\"\n"
   ]
  },
  {
   "cell_type": "code",
   "execution_count": 2,
   "metadata": {},
   "outputs": [],
   "source": [
    "# Pandexo visualisation constants\n",
    "filename_1 = f\"V1298TauB_MIRI\"\n",
    "filename_2 = f\"V1298TauB_MIRI_radiative\"\n",
    "\n",
    "\n",
    "inst_list = ['NIRSpec G140M', 'NIRSpec G235M', 'NIRSpec G395M']\n",
    "inst_list = ['MIRI LRS']\n",
    "\n",
    "# Title of the plot\n",
    "pandexo_title = 'V1298Tau B'\n",
    "\n",
    "pandexo_R = 20          # amount of bins\n",
    "pandexo_num_tran = 1     # number of transits\n",
    "pandexo_model = False\n",
    "pandexo_x_range = [.8,5.2] # in micron\n",
    "pandexo_x_range = [5,14]"
   ]
  },
  {
   "cell_type": "code",
   "execution_count": 27,
   "metadata": {},
   "outputs": [],
   "source": [
    "# Visualising Pandexo\n",
    "\n",
    "out = pk.load(open(f\"{datapath}/pandexo/{filename_1}.p\", 'rb'))\n",
    "\n",
    "\n",
    "list_out = []\n",
    "\n",
    "if len(inst_list) > 1:\n",
    "    for i in range(len(inst_list)):\n",
    "        list_out.append(out[i][inst_list[i]])\n",
    "\n",
    "else:\n",
    "    list_out = out\n",
    "\n",
    "\n",
    "x_1,y_1, e_1 = jpi.jwst_1d_spec(list_out, title = pandexo_title, R = pandexo_R, num_tran = pandexo_num_tran, model = pandexo_model, x_range = pandexo_x_range, output_file=f'{datapath}/pandexo/{filename_1}.html')\n",
    "\n",
    "# Visualising Pandexo\n",
    "\n",
    "out = pk.load(open(f\"{datapath}/pandexo/{filename_2}.p\", 'rb'))\n",
    "\n",
    "\n",
    "list_out = []\n",
    "\n",
    "if len(inst_list) > 1:\n",
    "    for i in range(len(inst_list)):\n",
    "        list_out.append(out[i][inst_list[i]])\n",
    "\n",
    "else:\n",
    "    list_out = out\n",
    "\n",
    "\n",
    "x_2,y_2, e_2 = jpi.jwst_1d_spec(list_out, title = pandexo_title, R = pandexo_R, num_tran = pandexo_num_tran, model = pandexo_model, x_range = pandexo_x_range, output_file=f'{datapath}/pandexo/{filename_2}.html')\n"
   ]
  },
  {
   "cell_type": "code",
   "execution_count": 37,
   "metadata": {},
   "outputs": [
    {
     "data": {
      "image/png": "[encoded data removed]",
      "text/plain": [
       "<Figure size 432x288 with 1 Axes>"
      ]
     },
     "metadata": {
      "needs_background": "light"
     },
     "output_type": "display_data"
    }
   ],
   "source": [
    "import matplotlib.pyplot as plt\n",
    "import numpy as np\n",
    "\n",
    "x_1_list = x_1[0].tolist()\n",
    "y_1_list = y_1[0].tolist()\n",
    "e_1_list = e_1[0].tolist()\n",
    "x_2_list = x_2[0].tolist()\n",
    "y_2_list = y_2[0].tolist()\n",
    "e_2_list = e_2[0].tolist()\n",
    "\n",
    "s=5\n",
    "\n",
    "plt.scatter(x_1_list, y_1_list, c='b',label=filename_1, s=s)\n",
    "\n",
    "plt.errorbar(x_1_list, y_1_list, yerr= e_1_list, c='b', fmt='o')\n",
    "\n",
    "plt.scatter(x_2_list, y_2_list, c='r', label=filename_2, s=s)\n",
    "plt.errorbar(x_2_list, y_2_list, yerr= e_2_list, c='r', fmt='o')\n",
    "\n",
    "plt.xlabel(\"Wavelength (micron)\")\n",
    "plt.ylabel(\"Fplanet / Fstar\")\n",
    "\n",
    "plt.yscale('log')\n",
    "plt.legend()\n",
    "plt.show()"
   ]
  },
  {
   "cell_type": "code",
   "execution_count": null,
   "metadata": {},
   "outputs": [],
   "source": []
  }
 ],
 "metadata": {
  "interpreter": {
   "hash": "ab332df9c55411f393873e48cf68916d92c71a9d59a70e3711fa33a87dd2a43c"
  },
  "kernelspec": {
   "display_name": "Python 3.6.13 ('bp')",
   "language": "python",
   "name": "python3"
  },
  "language_info": {
   "codemirror_mode": {
    "name": "ipython",
    "version": 3
   },
   "file_extension": ".py",
   "mimetype": "text/x-python",
   "name": "python",
   "nbconvert_exporter": "python",
   "pygments_lexer": "ipython3",
   "version": "3.6.13"
  },
  "orig_nbformat": 4
 },
 "nbformat": 4,
 "nbformat_minor": 2
}
